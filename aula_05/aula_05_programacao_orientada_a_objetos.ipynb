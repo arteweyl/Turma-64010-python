{
 "cells": [
  {
   "cell_type": "markdown",
   "metadata": {},
   "source": [
    "# Programação Orientada a Objetos"
   ]
  },
  {
   "cell_type": "code",
   "execution_count": 2,
   "metadata": {},
   "outputs": [],
   "source": [
    "class Animal:\n",
    "    def __init__(self,nome,idade,raca_catalogo):\n",
    "        self.nome = nome\n",
    "        self.idade = idade\n",
    "        self.raca = raca_catalogo\n",
    "    \n",
    "    def respirar(self):\n",
    "        print(f'{self.nome} está respirando')\n"
   ]
  },
  {
   "cell_type": "code",
   "execution_count": 3,
   "metadata": {},
   "outputs": [],
   "source": [
    "agua_viva = Animal('viva',2, 'Physalia physalis')"
   ]
  },
  {
   "cell_type": "code",
   "execution_count": null,
   "metadata": {},
   "outputs": [],
   "source": [
    "agua_viva.nome"
   ]
  },
  {
   "cell_type": "code",
   "execution_count": null,
   "metadata": {},
   "outputs": [],
   "source": [
    "agua_viva.idade"
   ]
  },
  {
   "cell_type": "code",
   "execution_count": null,
   "metadata": {},
   "outputs": [],
   "source": [
    "agua_viva.raca"
   ]
  },
  {
   "cell_type": "code",
   "execution_count": null,
   "metadata": {},
   "outputs": [],
   "source": [
    "agua_viva.respirar()"
   ]
  },
  {
   "cell_type": "markdown",
   "metadata": {},
   "source": [
    "criem uma classe chamada caneta, atribuam atributos para ela e um método.:"
   ]
  },
  {
   "cell_type": "code",
   "execution_count": 9,
   "metadata": {},
   "outputs": [],
   "source": [
    "class Caneta:\n",
    "    def __init__(self,cor,marca):\n",
    "        self.cor = cor \n",
    "        self.marca = marca\n",
    "\n",
    "    def escrever(self,escrita):\n",
    "        print(escrita)"
   ]
  },
  {
   "cell_type": "code",
   "execution_count": 10,
   "metadata": {},
   "outputs": [],
   "source": [
    "caneta_azul = Caneta('azul','bic')"
   ]
  },
  {
   "cell_type": "code",
   "execution_count": null,
   "metadata": {},
   "outputs": [],
   "source": [
    "print(caneta_azul.cor)\n",
    "print(caneta_azul.marca)\n",
    "\n",
    "caneta_azul.escrever(\"azul caneta\")"
   ]
  },
  {
   "cell_type": "markdown",
   "metadata": {},
   "source": [
    "# Herança"
   ]
  },
  {
   "cell_type": "code",
   "execution_count": 20,
   "metadata": {},
   "outputs": [],
   "source": [
    "class Cachorro(Animal):\n",
    "    def __init__(self,nome,idade,raca_catalogo,raca_pedgree):\n",
    "        super().__init__(nome,idade,raca_catalogo)\n",
    "        self.pedgree = raca_pedgree\n",
    "\n",
    "    def som(self):\n",
    "        print(\"auau\")"
   ]
  },
  {
   "cell_type": "code",
   "execution_count": 21,
   "metadata": {},
   "outputs": [],
   "source": [
    "scooby_doo = Cachorro('Scooby',5, 'Caninus Lupus Familiaris','Dogue Alemão')\n",
    "\n"
   ]
  },
  {
   "cell_type": "code",
   "execution_count": null,
   "metadata": {},
   "outputs": [],
   "source": [
    "print(scooby_doo.nome)\n",
    "print(scooby_doo.raca)\n",
    "print(scooby_doo.idade)\n",
    "print(scooby_doo.pedgree)\n",
    "\n",
    "scooby_doo.respirar()"
   ]
  },
  {
   "cell_type": "code",
   "execution_count": null,
   "metadata": {},
   "outputs": [],
   "source": [
    "scooby_doo.som()"
   ]
  },
  {
   "cell_type": "markdown",
   "metadata": {},
   "source": [
    "# Polimorfismo"
   ]
  },
  {
   "cell_type": "code",
   "execution_count": 23,
   "metadata": {},
   "outputs": [],
   "source": [
    "class Gato(Cachorro):\n",
    "    def __init__(self,nome,idade,raca_catalogo,raca_pedgree):\n",
    "        super().__init__(nome,idade,raca_catalogo,raca_pedgree)\n",
    "\n",
    "    def som(self):\n",
    "        print(\"Miau\")\n",
    "        \n",
    "    "
   ]
  },
  {
   "cell_type": "code",
   "execution_count": 24,
   "metadata": {},
   "outputs": [],
   "source": [
    "garfield = Gato('Garfield',6,'Felis Catus Domesticus','SRD')"
   ]
  },
  {
   "cell_type": "code",
   "execution_count": null,
   "metadata": {},
   "outputs": [],
   "source": [
    "print(garfield.nome)\n",
    "print(garfield.idade)\n",
    "print(garfield.raca)\n",
    "print(garfield.pedgree)\n",
    "\n",
    "garfield.respirar()\n",
    "garfield.som()"
   ]
  },
  {
   "cell_type": "code",
   "execution_count": null,
   "metadata": {},
   "outputs": [],
   "source": [
    "scooby_doo.som()"
   ]
  },
  {
   "cell_type": "markdown",
   "metadata": {},
   "source": [
    "Criem a classe pessoa que tenha certas caracteristicas\n",
    "criem a classe brasileiro que tenha as caracteristicas de pessoa mais algumas proprias\n",
    "\n",
    "e criem a classe corintiano que herda da classe brasileiro, corintiano precisa ter pelo menos um método polimorfico."
   ]
  },
  {
   "cell_type": "markdown",
   "metadata": {},
   "source": [
    "# Encapsulamento"
   ]
  },
  {
   "cell_type": "code",
   "execution_count": 52,
   "metadata": {},
   "outputs": [],
   "source": [
    "class Pessoa:\n",
    "    def __init__(self,nome,idade):\n",
    "        self._nome = nome # atributo encapsulado ---> privado\n",
    "        self._idade = idade\n",
    "\n",
    "    @property\n",
    "    def nome(self):\n",
    "        return self._nome\n",
    "    \n",
    "    @property\n",
    "    def idade(self):\n",
    "        return self._idade\n",
    "    \n",
    "    def apresentar(self):\n",
    "        print(f'meu nome é {self.nome} e eu tenho {self.idade} anos')\n",
    "\n",
    "    @staticmethod\n",
    "    def eh_maior_de_idade(idade):\n",
    "        return idade >= 18\n",
    " "
   ]
  },
  {
   "cell_type": "code",
   "execution_count": 42,
   "metadata": {},
   "outputs": [],
   "source": [
    "jose = Pessoa('jose',16)"
   ]
  },
  {
   "cell_type": "code",
   "execution_count": null,
   "metadata": {},
   "outputs": [],
   "source": [
    "jose.nome"
   ]
  },
  {
   "cell_type": "code",
   "execution_count": null,
   "metadata": {},
   "outputs": [],
   "source": [
    "jose.idade"
   ]
  },
  {
   "cell_type": "code",
   "execution_count": null,
   "metadata": {},
   "outputs": [],
   "source": [
    "Pessoa.eh_maior_de_idade(jose.idade)"
   ]
  },
  {
   "cell_type": "code",
   "execution_count": 53,
   "metadata": {},
   "outputs": [],
   "source": [
    "class Brasileiro(Pessoa):\n",
    "    def __init__(self,nome,idade,estado):\n",
    "        super().__init__(nome,idade)\n",
    "        self.estado = estado\n",
    "\n",
    "    def apresentar(self):\n",
    "        super().apresentar()\n",
    "        print(f'E eu sou do estado de {self.estado}.')\n",
    "\n"
   ]
  },
  {
   "cell_type": "code",
   "execution_count": 56,
   "metadata": {},
   "outputs": [],
   "source": [
    "joao = Brasileiro('joão',17,'são paulo')"
   ]
  },
  {
   "cell_type": "code",
   "execution_count": null,
   "metadata": {},
   "outputs": [],
   "source": [
    "joao.apresentar()"
   ]
  },
  {
   "cell_type": "code",
   "execution_count": 65,
   "metadata": {},
   "outputs": [],
   "source": [
    "class Corintiano(Brasileiro):\n",
    "    _qtd_corintianos = 0\n",
    "\n",
    "    def __init__(self,nome,idade,estado,torcida,anos_de_torcida=0):\n",
    "        self.torcida = torcida\n",
    "        self.anos_de_torcida = anos_de_torcida\n",
    "        super().__init__(nome,idade,estado)\n",
    "        Corintiano._qtd_corintianos += 1\n",
    "\n",
    "    def apresentar(self):\n",
    "        print(f'Meu nome é {self.nome} , sou corintiano da torcida {self.torcida}' + f'há {self.anos_de_torcida}')\n",
    "\n",
    "    def gritar(self):\n",
    "        print(f'VAI CORINTIA')\n",
    "\n",
    "    @classmethod\n",
    "    def quantidade_corintianos(cls):\n",
    "        return cls._qtd_corintianos\n",
    "\n"
   ]
  },
  {
   "cell_type": "code",
   "execution_count": 66,
   "metadata": {},
   "outputs": [],
   "source": [
    "corintiano1 = Corintiano('Ronaldo', 40,'São Paulo', 'Gaviões da Fiel', 15)\n",
    "corintiano2 = Corintiano('Maria',25,'Rio de janeiro', 'Camisa 12', 5)"
   ]
  },
  {
   "cell_type": "code",
   "execution_count": null,
   "metadata": {},
   "outputs": [],
   "source": [
    "corintiano1.apresentar()"
   ]
  },
  {
   "cell_type": "code",
   "execution_count": null,
   "metadata": {},
   "outputs": [],
   "source": [
    "corintiano2.apresentar()"
   ]
  },
  {
   "cell_type": "code",
   "execution_count": null,
   "metadata": {},
   "outputs": [],
   "source": [
    "corintiano2.gritar()"
   ]
  },
  {
   "cell_type": "code",
   "execution_count": null,
   "metadata": {},
   "outputs": [],
   "source": [
    "print(Corintiano.quantidade_corintianos())"
   ]
  },
  {
   "cell_type": "code",
   "execution_count": null,
   "metadata": {},
   "outputs": [],
   "source": [
    "Corintiano.eh_maior_de_idade(corintiano2.idade, saldo=0)"
   ]
  },
  {
   "cell_type": "markdown",
   "metadata": {},
   "source": [
    "### Exercício\n",
    "Crie uma classe Retangulo que tenha os atributos base e altura. Além disso que possua os métodos area() e perimetro(). Crie um objeto e teste os métodos."
   ]
  },
  {
   "cell_type": "markdown",
   "metadata": {},
   "source": [
    "### Exercício\n",
    "Crie uma classe Conta que tenha os atributos saldo e titular e os métodos depositar() e sacar(). Em seguida, instancie essa classe com um saldo inicial e realize algumas operações de depósito e saque para verificar se o saldo está sendo atualizado corretamente."
   ]
  },
  {
   "cell_type": "code",
   "execution_count": 1,
   "metadata": {},
   "outputs": [],
   "source": [
    "from util.geometria import Retangulo"
   ]
  },
  {
   "cell_type": "code",
   "execution_count": 2,
   "metadata": {},
   "outputs": [],
   "source": [
    "retangulo1 = Retangulo(4,5)"
   ]
  },
  {
   "cell_type": "code",
   "execution_count": null,
   "metadata": {},
   "outputs": [],
   "source": [
    "retangulo1.area()"
   ]
  },
  {
   "cell_type": "code",
   "execution_count": null,
   "metadata": {},
   "outputs": [],
   "source": [
    "retangulo1.perimetro()"
   ]
  },
  {
   "cell_type": "code",
   "execution_count": 7,
   "metadata": {},
   "outputs": [],
   "source": [
    "from util import geometria "
   ]
  },
  {
   "cell_type": "code",
   "execution_count": 10,
   "metadata": {},
   "outputs": [],
   "source": [
    "circulo = geometria.Circulo(8)"
   ]
  },
  {
   "cell_type": "code",
   "execution_count": null,
   "metadata": {},
   "outputs": [],
   "source": [
    "circulo.area()"
   ]
  },
  {
   "cell_type": "code",
   "execution_count": 12,
   "metadata": {},
   "outputs": [],
   "source": [
    "from util import geometria as ge"
   ]
  },
  {
   "cell_type": "code",
   "execution_count": 13,
   "metadata": {},
   "outputs": [],
   "source": [
    "circulo2 = ge.Circulo(9)"
   ]
  },
  {
   "cell_type": "code",
   "execution_count": null,
   "metadata": {},
   "outputs": [],
   "source": [
    "circulo2.perimetro()"
   ]
  },
  {
   "cell_type": "code",
   "execution_count": 1,
   "metadata": {},
   "outputs": [],
   "source": [
    "from util import utils "
   ]
  },
  {
   "cell_type": "code",
   "execution_count": 1,
   "metadata": {},
   "outputs": [],
   "source": [
    "from util.utils import renomear_para_maiusculos"
   ]
  },
  {
   "cell_type": "code",
   "execution_count": 2,
   "metadata": {},
   "outputs": [],
   "source": [
    "renomear_para_maiusculos('/home/arteweyl/coderhouse/python/turma-64010')"
   ]
  }
 ],
 "metadata": {
  "kernelspec": {
   "display_name": "Python 3",
   "language": "python",
   "name": "python3"
  },
  "language_info": {
   "codemirror_mode": {
    "name": "ipython",
    "version": 3
   },
   "file_extension": ".py",
   "mimetype": "text/x-python",
   "name": "python",
   "nbconvert_exporter": "python",
   "pygments_lexer": "ipython3",
   "version": "3.11.0rc1"
  }
 },
 "nbformat": 4,
 "nbformat_minor": 2
}
